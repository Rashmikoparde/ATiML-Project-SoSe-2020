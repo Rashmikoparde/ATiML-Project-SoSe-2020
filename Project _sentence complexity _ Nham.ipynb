{
 "cells": [
  {
   "cell_type": "markdown",
   "metadata": {},
   "source": [
    "\n",
    "### Combine csv and html to get the data with text and label"
   ]
  },
  {
   "cell_type": "code",
   "execution_count": 35,
   "metadata": {},
   "outputs": [],
   "source": [
    "import pandas as pd\n",
    "import numpy as np\n",
    "import matplotlib.pyplot as plt\n",
    "import seaborn as sns\n",
    "%matplotlib inline\n",
    "import codecs\n",
    "from string import punctuation\n",
    "from collections import Counter"
   ]
  },
  {
   "cell_type": "code",
   "execution_count": 36,
   "metadata": {},
   "outputs": [],
   "source": [
    "book_data = pd.read_csv('master996.csv',encoding = 'unicode_escape',sep = ';')"
   ]
  },
  {
   "cell_type": "code",
   "execution_count": 37,
   "metadata": {},
   "outputs": [],
   "source": [
    "# remove '.epub' to get the book_id only\n",
    "book_data['book_id'] = book_data['book_id'].apply(lambda x: x[0:(len(x)-5)])"
   ]
  },
  {
   "cell_type": "code",
   "execution_count": 38,
   "metadata": {},
   "outputs": [
    {
     "data": {
      "text/html": [
       "<div>\n",
       "<style scoped>\n",
       "    .dataframe tbody tr th:only-of-type {\n",
       "        vertical-align: middle;\n",
       "    }\n",
       "\n",
       "    .dataframe tbody tr th {\n",
       "        vertical-align: top;\n",
       "    }\n",
       "\n",
       "    .dataframe thead th {\n",
       "        text-align: right;\n",
       "    }\n",
       "</style>\n",
       "<table border=\"1\" class=\"dataframe\">\n",
       "  <thead>\n",
       "    <tr style=\"text-align: right;\">\n",
       "      <th></th>\n",
       "      <th>Book_Name</th>\n",
       "      <th>book_id</th>\n",
       "      <th>guten_genre</th>\n",
       "      <th>Author_Name</th>\n",
       "    </tr>\n",
       "  </thead>\n",
       "  <tbody>\n",
       "    <tr>\n",
       "      <th>0</th>\n",
       "      <td>The Mystery of the Boule Cabinet: A Detective ...</td>\n",
       "      <td>pg10067</td>\n",
       "      <td>Detective and Mystery</td>\n",
       "      <td>Stevenson| Burton Egbert</td>\n",
       "    </tr>\n",
       "    <tr>\n",
       "      <th>1</th>\n",
       "      <td>The Pupil</td>\n",
       "      <td>pg1032</td>\n",
       "      <td>Literary</td>\n",
       "      <td>James| Henry</td>\n",
       "    </tr>\n",
       "    <tr>\n",
       "      <th>2</th>\n",
       "      <td>At Love's Cost</td>\n",
       "      <td>pg10379</td>\n",
       "      <td>Literary</td>\n",
       "      <td>Garvice| Charles</td>\n",
       "    </tr>\n",
       "    <tr>\n",
       "      <th>3</th>\n",
       "      <td>The Heart of the Range</td>\n",
       "      <td>pg10473</td>\n",
       "      <td>Western Stories</td>\n",
       "      <td>White| William Patterson</td>\n",
       "    </tr>\n",
       "    <tr>\n",
       "      <th>4</th>\n",
       "      <td>The Worshipper of the Image</td>\n",
       "      <td>pg10812</td>\n",
       "      <td>Literary</td>\n",
       "      <td>Gallienne| Richard Le</td>\n",
       "    </tr>\n",
       "    <tr>\n",
       "      <th>...</th>\n",
       "      <td>...</td>\n",
       "      <td>...</td>\n",
       "      <td>...</td>\n",
       "      <td>...</td>\n",
       "    </tr>\n",
       "    <tr>\n",
       "      <th>991</th>\n",
       "      <td>David Copperfield</td>\n",
       "      <td>pg766DickensDavidCopfld</td>\n",
       "      <td>Literary</td>\n",
       "      <td>Dickens| Charles</td>\n",
       "    </tr>\n",
       "    <tr>\n",
       "      <th>992</th>\n",
       "      <td>Hard Times</td>\n",
       "      <td>pg786DickensHardTimes</td>\n",
       "      <td>Literary</td>\n",
       "      <td>Dickens| Charles</td>\n",
       "    </tr>\n",
       "    <tr>\n",
       "      <th>993</th>\n",
       "      <td>Memoirs of Shelock Holmes</td>\n",
       "      <td>pg834DoyleMemoirsSherlk</td>\n",
       "      <td>Detective and Mystery</td>\n",
       "      <td>Connan| Doyle</td>\n",
       "    </tr>\n",
       "    <tr>\n",
       "      <th>994</th>\n",
       "      <td>The Mysterious Affair at Styles</td>\n",
       "      <td>pg863Agatha1</td>\n",
       "      <td>Detective and Mystery</td>\n",
       "      <td>Christie| Agatha</td>\n",
       "    </tr>\n",
       "    <tr>\n",
       "      <th>995</th>\n",
       "      <td>A Tale of Two Cities</td>\n",
       "      <td>pg98DickensTaleCities</td>\n",
       "      <td>Literary</td>\n",
       "      <td>Dickens| Charles</td>\n",
       "    </tr>\n",
       "  </tbody>\n",
       "</table>\n",
       "<p>996 rows × 4 columns</p>\n",
       "</div>"
      ],
      "text/plain": [
       "                                             Book_Name  \\\n",
       "0    The Mystery of the Boule Cabinet: A Detective ...   \n",
       "1                                            The Pupil   \n",
       "2                                       At Love's Cost   \n",
       "3                               The Heart of the Range   \n",
       "4                          The Worshipper of the Image   \n",
       "..                                                 ...   \n",
       "991                                  David Copperfield   \n",
       "992                                         Hard Times   \n",
       "993                          Memoirs of Shelock Holmes   \n",
       "994                    The Mysterious Affair at Styles   \n",
       "995                               A Tale of Two Cities   \n",
       "\n",
       "                     book_id            guten_genre               Author_Name  \n",
       "0                    pg10067  Detective and Mystery  Stevenson| Burton Egbert  \n",
       "1                     pg1032               Literary              James| Henry  \n",
       "2                    pg10379               Literary          Garvice| Charles  \n",
       "3                    pg10473        Western Stories  White| William Patterson  \n",
       "4                    pg10812               Literary     Gallienne| Richard Le  \n",
       "..                       ...                    ...                       ...  \n",
       "991  pg766DickensDavidCopfld               Literary          Dickens| Charles  \n",
       "992    pg786DickensHardTimes               Literary          Dickens| Charles  \n",
       "993  pg834DoyleMemoirsSherlk  Detective and Mystery             Connan| Doyle  \n",
       "994             pg863Agatha1  Detective and Mystery          Christie| Agatha  \n",
       "995    pg98DickensTaleCities               Literary          Dickens| Charles  \n",
       "\n",
       "[996 rows x 4 columns]"
      ]
     },
     "execution_count": 38,
     "metadata": {},
     "output_type": "execute_result"
    }
   ],
   "source": [
    "book_data"
   ]
  },
  {
   "cell_type": "code",
   "execution_count": 39,
   "metadata": {},
   "outputs": [],
   "source": [
    "# create column \"text\" contains text from html file base on book_id\n",
    "book_data['text'] = book_data['book_id'].apply(lambda x: codecs.open(\"Gutenberg_19th_century_English_Fiction/{}-content.html\".format(x),encoding=\"utf8\").read())"
   ]
  },
  {
   "cell_type": "code",
   "execution_count": 40,
   "metadata": {},
   "outputs": [
    {
     "data": {
      "text/html": [
       "<div>\n",
       "<style scoped>\n",
       "    .dataframe tbody tr th:only-of-type {\n",
       "        vertical-align: middle;\n",
       "    }\n",
       "\n",
       "    .dataframe tbody tr th {\n",
       "        vertical-align: top;\n",
       "    }\n",
       "\n",
       "    .dataframe thead th {\n",
       "        text-align: right;\n",
       "    }\n",
       "</style>\n",
       "<table border=\"1\" class=\"dataframe\">\n",
       "  <thead>\n",
       "    <tr style=\"text-align: right;\">\n",
       "      <th></th>\n",
       "      <th>Book_Name</th>\n",
       "      <th>book_id</th>\n",
       "      <th>guten_genre</th>\n",
       "      <th>Author_Name</th>\n",
       "      <th>text</th>\n",
       "    </tr>\n",
       "  </thead>\n",
       "  <tbody>\n",
       "    <tr>\n",
       "      <th>0</th>\n",
       "      <td>The Mystery of the Boule Cabinet: A Detective ...</td>\n",
       "      <td>pg10067</td>\n",
       "      <td>Detective and Mystery</td>\n",
       "      <td>Stevenson| Burton Egbert</td>\n",
       "      <td>A Detective Story A.B.M. Fellow-Sherlockian \"...</td>\n",
       "    </tr>\n",
       "    <tr>\n",
       "      <th>1</th>\n",
       "      <td>The Pupil</td>\n",
       "      <td>pg1032</td>\n",
       "      <td>Literary</td>\n",
       "      <td>James| Henry</td>\n",
       "      <td>This edition first published 1916 The text fo...</td>\n",
       "    </tr>\n",
       "    <tr>\n",
       "      <th>2</th>\n",
       "      <td>At Love's Cost</td>\n",
       "      <td>pg10379</td>\n",
       "      <td>Literary</td>\n",
       "      <td>Garvice| Charles</td>\n",
       "      <td>\"Until this moment I have never fully realise...</td>\n",
       "    </tr>\n",
       "    <tr>\n",
       "      <th>3</th>\n",
       "      <td>The Heart of the Range</td>\n",
       "      <td>pg10473</td>\n",
       "      <td>Western Stories</td>\n",
       "      <td>White| William Patterson</td>\n",
       "      <td>\"The Rider of Golden Bar,\" \"Hidden Trails,\" \"...</td>\n",
       "    </tr>\n",
       "    <tr>\n",
       "      <th>4</th>\n",
       "      <td>The Worshipper of the Image</td>\n",
       "      <td>pg10812</td>\n",
       "      <td>Literary</td>\n",
       "      <td>Gallienne| Richard Le</td>\n",
       "      <td>The Worshipper of the Image Evening was in th...</td>\n",
       "    </tr>\n",
       "  </tbody>\n",
       "</table>\n",
       "</div>"
      ],
      "text/plain": [
       "                                           Book_Name  book_id  \\\n",
       "0  The Mystery of the Boule Cabinet: A Detective ...  pg10067   \n",
       "1                                          The Pupil   pg1032   \n",
       "2                                     At Love's Cost  pg10379   \n",
       "3                             The Heart of the Range  pg10473   \n",
       "4                        The Worshipper of the Image  pg10812   \n",
       "\n",
       "             guten_genre               Author_Name  \\\n",
       "0  Detective and Mystery  Stevenson| Burton Egbert   \n",
       "1               Literary              James| Henry   \n",
       "2               Literary          Garvice| Charles   \n",
       "3        Western Stories  White| William Patterson   \n",
       "4               Literary     Gallienne| Richard Le   \n",
       "\n",
       "                                                text  \n",
       "0   A Detective Story A.B.M. Fellow-Sherlockian \"...  \n",
       "1   This edition first published 1916 The text fo...  \n",
       "2   \"Until this moment I have never fully realise...  \n",
       "3   \"The Rider of Golden Bar,\" \"Hidden Trails,\" \"...  \n",
       "4   The Worshipper of the Image Evening was in th...  "
      ]
     },
     "execution_count": 40,
     "metadata": {},
     "output_type": "execute_result"
    }
   ],
   "source": [
    "# remove some trailing character \n",
    "book_data['text'] = book_data['text'].apply(lambda x: x.replace('\\n','').replace('<p>',' ').replace('\\n<p>',''))\n",
    "book_data.head()"
   ]
  },
  {
   "cell_type": "code",
   "execution_count": 41,
   "metadata": {},
   "outputs": [],
   "source": [
    "from sklearn.preprocessing import LabelEncoder\n",
    "import nltk"
   ]
  },
  {
   "cell_type": "code",
   "execution_count": 42,
   "metadata": {},
   "outputs": [],
   "source": [
    "label = LabelEncoder()"
   ]
  },
  {
   "cell_type": "code",
   "execution_count": 43,
   "metadata": {},
   "outputs": [],
   "source": [
    "book_data['class'] = label.fit_transform(book_data['guten_genre'])"
   ]
  },
  {
   "cell_type": "code",
   "execution_count": 44,
   "metadata": {},
   "outputs": [],
   "source": [
    "X = book_data['text']\n",
    "y = book_data['class']"
   ]
  },
  {
   "cell_type": "code",
   "execution_count": 45,
   "metadata": {},
   "outputs": [],
   "source": [
    "label_text = book_data['guten_genre'].unique()\n",
    "label_num = book_data['class'].unique()\n",
    "class_num_text = dict(zip(label_num, label_text))\n",
    "df = pd.DataFrame(data = y.value_counts()).reset_index().rename(columns={\"index\": \"class\", \"class\": \"counts\"})\n",
    "df['class_name'] = df['class'].apply(lambda x: class_num_text[x])"
   ]
  },
  {
   "cell_type": "code",
   "execution_count": 46,
   "metadata": {},
   "outputs": [
    {
     "data": {
      "text/plain": [
       "<matplotlib.axes._subplots.AxesSubplot at 0x26c863b8d68>"
      ]
     },
     "execution_count": 46,
     "metadata": {},
     "output_type": "execute_result"
    },
    {
     "data": {
      "image/png": "[encoded data removed]",
      "text/plain": [
       "<Figure size 432x288 with 1 Axes>"
      ]
     },
     "metadata": {
      "needs_background": "light"
     },
     "output_type": "display_data"
    }
   ],
   "source": [
    "sns.countplot(y)\n",
    "#### replace legend"
   ]
  },
  {
   "cell_type": "markdown",
   "metadata": {},
   "source": [
    "# Sentence complexity\n"
   ]
  },
  {
   "cell_type": "markdown",
   "metadata": {},
   "source": [
    "### Create comma_count and period_count column"
   ]
  },
  {
   "cell_type": "code",
   "execution_count": 47,
   "metadata": {},
   "outputs": [],
   "source": [
    "comma = [',']\n",
    "period = ['.']"
   ]
  },
  {
   "cell_type": "code",
   "execution_count": 48,
   "metadata": {},
   "outputs": [],
   "source": [
    "def comma_count(text, character):\n",
    "    counts = Counter(text)\n",
    "    punctuation_counts = {k:v for k, v in counts.items() if k in character}\n",
    "    return punctuation_counts.get(character[0])"
   ]
  },
  {
   "cell_type": "code",
   "execution_count": 49,
   "metadata": {},
   "outputs": [],
   "source": [
    "book_data['comma_count'] = book_data['text'].apply(lambda x: comma_count(x,comma))"
   ]
  },
  {
   "cell_type": "code",
   "execution_count": 50,
   "metadata": {},
   "outputs": [],
   "source": [
    "book_data['period_count'] = book_data['text'].apply(lambda x: comma_count(x,period))"
   ]
  },
  {
   "cell_type": "markdown",
   "metadata": {},
   "source": [
    "### Coordination conjunction"
   ]
  },
  {
   "cell_type": "code",
   "execution_count": 51,
   "metadata": {},
   "outputs": [],
   "source": [
    "coor_conj = ['and', 'but', 'for', 'nor', 'or', 'so', 'yet']"
   ]
  },
  {
   "cell_type": "code",
   "execution_count": 52,
   "metadata": {},
   "outputs": [],
   "source": [
    "book_data['text'] = book_data['text'].str.lower()"
   ]
  },
  {
   "cell_type": "code",
   "execution_count": 53,
   "metadata": {},
   "outputs": [],
   "source": [
    "def conj_punc_count(text,character):\n",
    "    counts = Counter(text.split())\n",
    "    conjunction_counts = {k:v for k, v in counts.items() if k in character}\n",
    "    return sum(conjunction_counts.values())"
   ]
  },
  {
   "cell_type": "code",
   "execution_count": 54,
   "metadata": {},
   "outputs": [],
   "source": [
    "book_data['coordinate_conj_count'] = book_data['text'].apply(lambda x: conj_punc_count(x,coor_conj))"
   ]
  },
  {
   "cell_type": "markdown",
   "metadata": {},
   "source": [
    "### Other punctuation count"
   ]
  },
  {
   "cell_type": "code",
   "execution_count": 55,
   "metadata": {},
   "outputs": [],
   "source": [
    "other_punctuation = '!\"#$%&\\'()*+-/:;<=>?@[\\\\]^_`{|}~'"
   ]
  },
  {
   "cell_type": "code",
   "execution_count": 56,
   "metadata": {},
   "outputs": [],
   "source": [
    "book_data['other_punc_count'] = book_data['text'].apply(lambda x: conj_punc_count(x,other_punctuation))"
   ]
  },
  {
   "cell_type": "markdown",
   "metadata": {},
   "source": [
    "### Average sentence length column"
   ]
  },
  {
   "cell_type": "code",
   "execution_count": 57,
   "metadata": {},
   "outputs": [],
   "source": [
    "def averageSentence(sentence):\n",
    "    words = sentence.split('.')\n",
    "    average = sum(len(word) for word in words)/len(words)\n",
    "    return round(average,0)"
   ]
  },
  {
   "cell_type": "code",
   "execution_count": 58,
   "metadata": {},
   "outputs": [],
   "source": [
    "book_data['aver_sentence_length'] = book_data['text'].apply(lambda x: averageSentence(x))"
   ]
  },
  {
   "cell_type": "code",
   "execution_count": 59,
   "metadata": {},
   "outputs": [
    {
     "data": {
      "text/html": [
       "<div>\n",
       "<style scoped>\n",
       "    .dataframe tbody tr th:only-of-type {\n",
       "        vertical-align: middle;\n",
       "    }\n",
       "\n",
       "    .dataframe tbody tr th {\n",
       "        vertical-align: top;\n",
       "    }\n",
       "\n",
       "    .dataframe thead th {\n",
       "        text-align: right;\n",
       "    }\n",
       "</style>\n",
       "<table border=\"1\" class=\"dataframe\">\n",
       "  <thead>\n",
       "    <tr style=\"text-align: right;\">\n",
       "      <th></th>\n",
       "      <th>Book_Name</th>\n",
       "      <th>book_id</th>\n",
       "      <th>guten_genre</th>\n",
       "      <th>Author_Name</th>\n",
       "      <th>text</th>\n",
       "      <th>class</th>\n",
       "      <th>comma_count</th>\n",
       "      <th>period_count</th>\n",
       "      <th>coordinate_conj_count</th>\n",
       "      <th>other_punc_count</th>\n",
       "      <th>aver_sentence_length</th>\n",
       "    </tr>\n",
       "  </thead>\n",
       "  <tbody>\n",
       "    <tr>\n",
       "      <th>0</th>\n",
       "      <td>The Mystery of the Boule Cabinet: A Detective ...</td>\n",
       "      <td>pg10067</td>\n",
       "      <td>Detective and Mystery</td>\n",
       "      <td>Stevenson| Burton Egbert</td>\n",
       "      <td>a detective story a.b.m. fellow-sherlockian \"...</td>\n",
       "      <td>2</td>\n",
       "      <td>5669.0</td>\n",
       "      <td>4367.0</td>\n",
       "      <td>3093</td>\n",
       "      <td>548</td>\n",
       "      <td>84.0</td>\n",
       "    </tr>\n",
       "    <tr>\n",
       "      <th>1</th>\n",
       "      <td>The Pupil</td>\n",
       "      <td>pg1032</td>\n",
       "      <td>Literary</td>\n",
       "      <td>James| Henry</td>\n",
       "      <td>this edition first published 1916 the text fo...</td>\n",
       "      <td>5</td>\n",
       "      <td>962.0</td>\n",
       "      <td>823.0</td>\n",
       "      <td>795</td>\n",
       "      <td>265</td>\n",
       "      <td>118.0</td>\n",
       "    </tr>\n",
       "    <tr>\n",
       "      <th>2</th>\n",
       "      <td>At Love's Cost</td>\n",
       "      <td>pg10379</td>\n",
       "      <td>Literary</td>\n",
       "      <td>Garvice| Charles</td>\n",
       "      <td>\"until this moment i have never fully realise...</td>\n",
       "      <td>5</td>\n",
       "      <td>11771.0</td>\n",
       "      <td>7137.0</td>\n",
       "      <td>8437</td>\n",
       "      <td>1966</td>\n",
       "      <td>112.0</td>\n",
       "    </tr>\n",
       "    <tr>\n",
       "      <th>3</th>\n",
       "      <td>The Heart of the Range</td>\n",
       "      <td>pg10473</td>\n",
       "      <td>Western Stories</td>\n",
       "      <td>White| William Patterson</td>\n",
       "      <td>\"the rider of golden bar,\" \"hidden trails,\" \"...</td>\n",
       "      <td>8</td>\n",
       "      <td>5798.0</td>\n",
       "      <td>7534.0</td>\n",
       "      <td>3519</td>\n",
       "      <td>684</td>\n",
       "      <td>64.0</td>\n",
       "    </tr>\n",
       "    <tr>\n",
       "      <th>4</th>\n",
       "      <td>The Worshipper of the Image</td>\n",
       "      <td>pg10812</td>\n",
       "      <td>Literary</td>\n",
       "      <td>Gallienne| Richard Le</td>\n",
       "      <td>the worshipper of the image evening was in th...</td>\n",
       "      <td>5</td>\n",
       "      <td>1429.0</td>\n",
       "      <td>864.0</td>\n",
       "      <td>986</td>\n",
       "      <td>229</td>\n",
       "      <td>110.0</td>\n",
       "    </tr>\n",
       "    <tr>\n",
       "      <th>...</th>\n",
       "      <td>...</td>\n",
       "      <td>...</td>\n",
       "      <td>...</td>\n",
       "      <td>...</td>\n",
       "      <td>...</td>\n",
       "      <td>...</td>\n",
       "      <td>...</td>\n",
       "      <td>...</td>\n",
       "      <td>...</td>\n",
       "      <td>...</td>\n",
       "      <td>...</td>\n",
       "    </tr>\n",
       "    <tr>\n",
       "      <th>991</th>\n",
       "      <td>David Copperfield</td>\n",
       "      <td>pg766DickensDavidCopfld</td>\n",
       "      <td>Literary</td>\n",
       "      <td>Dickens| Charles</td>\n",
       "      <td>i do not find it easy to get sufficiently far...</td>\n",
       "      <td>5</td>\n",
       "      <td>36118.0</td>\n",
       "      <td>18121.0</td>\n",
       "      <td>18721</td>\n",
       "      <td>2564</td>\n",
       "      <td>105.0</td>\n",
       "    </tr>\n",
       "    <tr>\n",
       "      <th>992</th>\n",
       "      <td>Hard Times</td>\n",
       "      <td>pg786DickensHardTimes</td>\n",
       "      <td>Literary</td>\n",
       "      <td>Dickens| Charles</td>\n",
       "      <td>the one thing needful murdering the innocents...</td>\n",
       "      <td>5</td>\n",
       "      <td>10397.0</td>\n",
       "      <td>5825.0</td>\n",
       "      <td>5252</td>\n",
       "      <td>636</td>\n",
       "      <td>97.0</td>\n",
       "    </tr>\n",
       "    <tr>\n",
       "      <th>993</th>\n",
       "      <td>Memoirs of Shelock Holmes</td>\n",
       "      <td>pg834DoyleMemoirsSherlk</td>\n",
       "      <td>Detective and Mystery</td>\n",
       "      <td>Connan| Doyle</td>\n",
       "      <td>\"i am afraid, watson, that i shall have to go...</td>\n",
       "      <td>2</td>\n",
       "      <td>6090.0</td>\n",
       "      <td>4950.0</td>\n",
       "      <td>3719</td>\n",
       "      <td>183</td>\n",
       "      <td>93.0</td>\n",
       "    </tr>\n",
       "    <tr>\n",
       "      <th>994</th>\n",
       "      <td>The Mysterious Affair at Styles</td>\n",
       "      <td>pg863Agatha1</td>\n",
       "      <td>Detective and Mystery</td>\n",
       "      <td>Christie| Agatha</td>\n",
       "      <td>the intense interest aroused in the public by...</td>\n",
       "      <td>2</td>\n",
       "      <td>4275.0</td>\n",
       "      <td>4595.0</td>\n",
       "      <td>2001</td>\n",
       "      <td>651</td>\n",
       "      <td>68.0</td>\n",
       "    </tr>\n",
       "    <tr>\n",
       "      <th>995</th>\n",
       "      <td>A Tale of Two Cities</td>\n",
       "      <td>pg98DickensTaleCities</td>\n",
       "      <td>Literary</td>\n",
       "      <td>Dickens| Charles</td>\n",
       "      <td>!!!!  book the first - recalled to life i.   ...</td>\n",
       "      <td>5</td>\n",
       "      <td>1659.0</td>\n",
       "      <td>800.0</td>\n",
       "      <td>921</td>\n",
       "      <td>120</td>\n",
       "      <td>119.0</td>\n",
       "    </tr>\n",
       "  </tbody>\n",
       "</table>\n",
       "<p>996 rows × 11 columns</p>\n",
       "</div>"
      ],
      "text/plain": [
       "                                             Book_Name  \\\n",
       "0    The Mystery of the Boule Cabinet: A Detective ...   \n",
       "1                                            The Pupil   \n",
       "2                                       At Love's Cost   \n",
       "3                               The Heart of the Range   \n",
       "4                          The Worshipper of the Image   \n",
       "..                                                 ...   \n",
       "991                                  David Copperfield   \n",
       "992                                         Hard Times   \n",
       "993                          Memoirs of Shelock Holmes   \n",
       "994                    The Mysterious Affair at Styles   \n",
       "995                               A Tale of Two Cities   \n",
       "\n",
       "                     book_id            guten_genre               Author_Name  \\\n",
       "0                    pg10067  Detective and Mystery  Stevenson| Burton Egbert   \n",
       "1                     pg1032               Literary              James| Henry   \n",
       "2                    pg10379               Literary          Garvice| Charles   \n",
       "3                    pg10473        Western Stories  White| William Patterson   \n",
       "4                    pg10812               Literary     Gallienne| Richard Le   \n",
       "..                       ...                    ...                       ...   \n",
       "991  pg766DickensDavidCopfld               Literary          Dickens| Charles   \n",
       "992    pg786DickensHardTimes               Literary          Dickens| Charles   \n",
       "993  pg834DoyleMemoirsSherlk  Detective and Mystery             Connan| Doyle   \n",
       "994             pg863Agatha1  Detective and Mystery          Christie| Agatha   \n",
       "995    pg98DickensTaleCities               Literary          Dickens| Charles   \n",
       "\n",
       "                                                  text  class  comma_count  \\\n",
       "0     a detective story a.b.m. fellow-sherlockian \"...      2       5669.0   \n",
       "1     this edition first published 1916 the text fo...      5        962.0   \n",
       "2     \"until this moment i have never fully realise...      5      11771.0   \n",
       "3     \"the rider of golden bar,\" \"hidden trails,\" \"...      8       5798.0   \n",
       "4     the worshipper of the image evening was in th...      5       1429.0   \n",
       "..                                                 ...    ...          ...   \n",
       "991   i do not find it easy to get sufficiently far...      5      36118.0   \n",
       "992   the one thing needful murdering the innocents...      5      10397.0   \n",
       "993   \"i am afraid, watson, that i shall have to go...      2       6090.0   \n",
       "994   the intense interest aroused in the public by...      2       4275.0   \n",
       "995   !!!!  book the first - recalled to life i.   ...      5       1659.0   \n",
       "\n",
       "     period_count  coordinate_conj_count  other_punc_count  \\\n",
       "0          4367.0                   3093               548   \n",
       "1           823.0                    795               265   \n",
       "2          7137.0                   8437              1966   \n",
       "3          7534.0                   3519               684   \n",
       "4           864.0                    986               229   \n",
       "..            ...                    ...               ...   \n",
       "991       18121.0                  18721              2564   \n",
       "992        5825.0                   5252               636   \n",
       "993        4950.0                   3719               183   \n",
       "994        4595.0                   2001               651   \n",
       "995         800.0                    921               120   \n",
       "\n",
       "     aver_sentence_length  \n",
       "0                    84.0  \n",
       "1                   118.0  \n",
       "2                   112.0  \n",
       "3                    64.0  \n",
       "4                   110.0  \n",
       "..                    ...  \n",
       "991                 105.0  \n",
       "992                  97.0  \n",
       "993                  93.0  \n",
       "994                  68.0  \n",
       "995                 119.0  \n",
       "\n",
       "[996 rows x 11 columns]"
      ]
     },
     "execution_count": 59,
     "metadata": {},
     "output_type": "execute_result"
    }
   ],
   "source": [
    "book_data"
   ]
  },
  {
   "cell_type": "code",
   "execution_count": null,
   "metadata": {},
   "outputs": [],
   "source": []
  },
  {
   "cell_type": "code",
   "execution_count": null,
   "metadata": {},
   "outputs": [],
   "source": []
  },
  {
   "cell_type": "code",
   "execution_count": null,
   "metadata": {},
   "outputs": [],
   "source": []
  }
 ],
 "metadata": {
  "kernelspec": {
   "display_name": "Python 3",
   "language": "python",
   "name": "python3"
  },
  "language_info": {
   "codemirror_mode": {
    "name": "ipython",
    "version": 3
   },
   "file_extension": ".py",
   "mimetype": "text/x-python",
   "name": "python",
   "nbconvert_exporter": "python",
   "pygments_lexer": "ipython3",
   "version": "3.7.3"
  }
 },
 "nbformat": 4,
 "nbformat_minor": 4
}
